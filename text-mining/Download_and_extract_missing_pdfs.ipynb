version https://git-lfs.github.com/spec/v1
oid sha256:b2e050f73bf40d0a27f868b68bfab624556c9fd8e0df33cfd9a880c2ca9d2467
size 71040
